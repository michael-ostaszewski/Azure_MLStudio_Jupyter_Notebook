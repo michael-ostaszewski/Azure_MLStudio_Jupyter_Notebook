{
 "cells": [
  {
   "cell_type": "markdown",
   "source": [
    "###### **Random Forest Classification in Microsoft Azure**\n",
    "The notebook presents a task carried out as part of a course on processing large datasets in the cloud (in this case, working with Azure Machine Learning Studio), during my postgraduate studies in Big Data – Engineering of Large Data Sets at the Polish-Japanese Academy of Information Technology (PJATK). The goal of the project is the practical application of machine learning in the cloud in the context of data analysis and understanding the process of building classification models in Python.\n",
    "\n",
    "To begin, I import the libraries and methods necessary for the project, which will be used later."
   ],
   "metadata": {
    "nteract": {
     "transient": {
      "deleting": false
     }
    }
   }
  },
  {
   "cell_type": "code",
   "source": [
    "import pandas as pd\n",
    "import numpy as np\n",
    "import matplotlib.pyplot as plt\n",
    "from sklearn.model_selection import train_test_split\n",
    "from sklearn.ensemble import RandomForestClassifier\n",
    "from sklearn.metrics import recall_score\n",
    "from sklearn.metrics import precision_score\n",
    "from sklearn.metrics import confusion_matrix\n",
    "from sklearn.metrics import multilabel_confusion_matrix\n",
    "from sklearn.metrics import ConfusionMatrixDisplay"
   ],
   "outputs": [],
   "execution_count": 16,
   "metadata": {
    "gather": {
     "logged": 1737308196075
    }
   }
  },
  {
   "cell_type": "markdown",
   "source": [
    "Next, I import the data, which has been uploaded to the Azure service, into a DataFrame. I extract the features (X) and target (y) and split them into training and testing sets. \n",
    "The data was sourced from: https://archive.ics.uci.edu/dataset/186/wine+quality."
   ],
   "metadata": {
    "nteract": {
     "transient": {
      "deleting": false
     }
    }
   }
  },
  {
   "cell_type": "code",
   "source": [
    "data = pd.read_csv('winequality-red.csv', sep=';')\n",
    "\n",
    "X = data[[\n",
    "    'fixed acidity',\n",
    "    'volatile acidity',\n",
    "    'citric acid',\n",
    "    'residual sugar',\n",
    "    'chlorides',\n",
    "    'free sulfur dioxide',\n",
    "    'total sulfur dioxide',\n",
    "    'density',\n",
    "    'pH',\n",
    "    'sulphates',\n",
    "    'alcohol']]\n",
    "\n",
    "y = data[[\n",
    "'quality'\n",
    "     ]]\n",
    "\n",
    "X_train, X_test, y_train, y_test = train_test_split(X, y, test_size=0.15)"
   ],
   "outputs": [],
   "execution_count": 131,
   "metadata": {
    "gather": {
     "logged": 1737312122922
    }
   }
  },
  {
   "cell_type": "markdown",
   "source": [
    "I look into the data sample using head method in Pandas."
   ],
   "metadata": {
    "nteract": {
     "transient": {
      "deleting": false
     }
    }
   }
  },
  {
   "cell_type": "code",
   "source": [
    "data.head(5)"
   ],
   "outputs": [
    {
     "output_type": "execute_result",
     "execution_count": 140,
     "data": {
      "text/plain": "   fixed acidity  volatile acidity  citric acid  residual sugar  chlorides  \\\n0            7.4              0.70         0.00             1.9      0.076   \n1            7.8              0.88         0.00             2.6      0.098   \n2            7.8              0.76         0.04             2.3      0.092   \n3           11.2              0.28         0.56             1.9      0.075   \n4            7.4              0.70         0.00             1.9      0.076   \n\n   free sulfur dioxide  total sulfur dioxide  density    pH  sulphates  \\\n0                 11.0                  34.0   0.9978  3.51       0.56   \n1                 25.0                  67.0   0.9968  3.20       0.68   \n2                 15.0                  54.0   0.9970  3.26       0.65   \n3                 17.0                  60.0   0.9980  3.16       0.58   \n4                 11.0                  34.0   0.9978  3.51       0.56   \n\n   alcohol  quality  \n0      9.4        5  \n1      9.8        5  \n2      9.8        5  \n3      9.8        6  \n4      9.4        5  ",
      "text/html": "<div>\n<style scoped>\n    .dataframe tbody tr th:only-of-type {\n        vertical-align: middle;\n    }\n\n    .dataframe tbody tr th {\n        vertical-align: top;\n    }\n\n    .dataframe thead th {\n        text-align: right;\n    }\n</style>\n<table border=\"1\" class=\"dataframe\">\n  <thead>\n    <tr style=\"text-align: right;\">\n      <th></th>\n      <th>fixed acidity</th>\n      <th>volatile acidity</th>\n      <th>citric acid</th>\n      <th>residual sugar</th>\n      <th>chlorides</th>\n      <th>free sulfur dioxide</th>\n      <th>total sulfur dioxide</th>\n      <th>density</th>\n      <th>pH</th>\n      <th>sulphates</th>\n      <th>alcohol</th>\n      <th>quality</th>\n    </tr>\n  </thead>\n  <tbody>\n    <tr>\n      <th>0</th>\n      <td>7.4</td>\n      <td>0.70</td>\n      <td>0.00</td>\n      <td>1.9</td>\n      <td>0.076</td>\n      <td>11.0</td>\n      <td>34.0</td>\n      <td>0.9978</td>\n      <td>3.51</td>\n      <td>0.56</td>\n      <td>9.4</td>\n      <td>5</td>\n    </tr>\n    <tr>\n      <th>1</th>\n      <td>7.8</td>\n      <td>0.88</td>\n      <td>0.00</td>\n      <td>2.6</td>\n      <td>0.098</td>\n      <td>25.0</td>\n      <td>67.0</td>\n      <td>0.9968</td>\n      <td>3.20</td>\n      <td>0.68</td>\n      <td>9.8</td>\n      <td>5</td>\n    </tr>\n    <tr>\n      <th>2</th>\n      <td>7.8</td>\n      <td>0.76</td>\n      <td>0.04</td>\n      <td>2.3</td>\n      <td>0.092</td>\n      <td>15.0</td>\n      <td>54.0</td>\n      <td>0.9970</td>\n      <td>3.26</td>\n      <td>0.65</td>\n      <td>9.8</td>\n      <td>5</td>\n    </tr>\n    <tr>\n      <th>3</th>\n      <td>11.2</td>\n      <td>0.28</td>\n      <td>0.56</td>\n      <td>1.9</td>\n      <td>0.075</td>\n      <td>17.0</td>\n      <td>60.0</td>\n      <td>0.9980</td>\n      <td>3.16</td>\n      <td>0.58</td>\n      <td>9.8</td>\n      <td>6</td>\n    </tr>\n    <tr>\n      <th>4</th>\n      <td>7.4</td>\n      <td>0.70</td>\n      <td>0.00</td>\n      <td>1.9</td>\n      <td>0.076</td>\n      <td>11.0</td>\n      <td>34.0</td>\n      <td>0.9978</td>\n      <td>3.51</td>\n      <td>0.56</td>\n      <td>9.4</td>\n      <td>5</td>\n    </tr>\n  </tbody>\n</table>\n</div>"
     },
     "metadata": {}
    }
   ],
   "execution_count": 140,
   "metadata": {
    "gather": {
     "logged": 1737312475591
    }
   }
  },
  {
   "cell_type": "markdown",
   "source": [
    "I also checked the size and shape of the datasets to ensure that everything is correct."
   ],
   "metadata": {
    "nteract": {
     "transient": {
      "deleting": false
     }
    }
   }
  },
  {
   "cell_type": "code",
   "source": [
    "print(\"Training sets:\")\n",
    "print(\"Shape of X_train:\", X_train.shape)\n",
    "print(\"Shape of y_train:\", y_train.shape)\n",
    "\n",
    "print(\"\"*30)\n",
    "\n",
    "print(\"Test sets:\")\n",
    "print(\"Shape of X_test:\", X_test.shape)\n",
    "print(\"Shape of y_test:\", y_test.shape)"
   ],
   "outputs": [
    {
     "output_type": "stream",
     "name": "stdout",
     "text": "Training sets:\nShape of X_train: (1359, 11)\nShape of y_train: (1359, 1)\n\nTest sets:\nShape of X_test: (240, 11)\nShape of y_test: (240, 1)\n"
    }
   ],
   "execution_count": 142,
   "metadata": {
    "gather": {
     "logged": 1737314103160
    }
   }
  },
  {
   "cell_type": "markdown",
   "source": [
    "I also tested the standardization of the data sets to check if it would improve the model's performance. However, it did not lead to any improvement, likely because the dataset is relatively small. Therefore, I decided not to include it in the final pipeline."
   ],
   "metadata": {
    "nteract": {
     "transient": {
      "deleting": false
     }
    }
   }
  },
  {
   "cell_type": "code",
   "source": [
    "# from sklearn.preprocessing import StandardScaler\n",
    "\n",
    "# scaler = StandardScaler()\n",
    "# X_train_scaled = scaler.fit_transform(X_train)\n",
    "# X_test_scaled = scaler.transform(X_test)"
   ],
   "outputs": [],
   "execution_count": null,
   "metadata": {}
  },
  {
   "cell_type": "markdown",
   "source": [
    "A RandomForestClassifier is initialized with the following parameters:\n",
    "max_depth=10000: Sets the maximum depth of the decision trees. A high value allows trees to grow deeply and capture more complexity in the data.\n",
    "min_samples_leaf=2: Ensures that each leaf contains at least 2 samples, which helps reduce overfitting by preventing overly specific splits.\n",
    "random_state=12: Ensures reproducibility by fixing the random seed.\n",
    "class_weight='balanced': Adjusts the weights of classes based on their frequencies in the data, which is particularly useful for imbalanced datasets.\n",
    "\n",
    "At the end, I print the prediction results of my model using precision and recall. Deffinitions are below:\n",
    "Precision and Recall: What Do They Tell Us?\n",
    "Precision and recall are two key metrics used to evaluate the performance of classification models, especially in multi-class or imbalanced datasets. They provide insights into how well a model is performing in terms of correctly identifying and predicting classes.\n",
    "\n",
    "1. Precision (Positive Predictive Value)\n",
    "Precision answers the question:\n",
    "\"Of all the samples predicted as a certain class, how many were actually correct?\"\n",
    "\n",
    "Precision focuses on the accuracy of positive predictions.\n",
    "High precision means that when the model predicts a sample belongs to a specific class, it is very likely to be correct.\n",
    "Precision is especially important in scenarios where false positives have a high cost. For example:\n",
    "Diagnosing a disease: Predicting someone is sick when they are not could lead to unnecessary treatments.\n",
    "Spam filters: Classifying important emails as spam (false positives) can lead to losing critical information.\n",
    "\n",
    "\n",
    "2. Recall (Sensitivity or True Positive Rate)\n",
    "Recall answers the question:\n",
    "\"Of all the samples that truly belong to a certain class, how many were correctly identified by the model?\"\n",
    "\n",
    "Recall focuses on identifying all relevant samples for a given class.\n",
    "High recall means that the model correctly identifies most of the actual instances of the class.\n",
    "Recall is crucial in scenarios where false negatives have a high cost. For example:\n",
    "Cancer detection: Missing a case (false negative) could have life-threatening consequences.\n",
    "Fraud detection: Failing to identify fraudulent transactions could result in significant financial losses.\n"
   ],
   "metadata": {
    "nteract": {
     "transient": {
      "deleting": false
     }
    }
   }
  },
  {
   "cell_type": "code",
   "source": [
    "clf = RandomForestClassifier(max_depth=10000, min_samples_leaf=2, random_state=12, class_weight='balanced') \n",
    "clf.fit(X_train, y_train.values.ravel())\n",
    "\n",
    "y_pred = clf.predict(X_test)\n",
    "\n",
    "y_test_flat = y_test.values.ravel()  # Conversion to 1D (from Pandas DataFrame to Numpy Array)\n",
    "\n",
    "precision = precision_score(y_test_flat, y_pred, average='macro', zero_division=0)\n",
    "recall = recall_score(y_test_flat, y_pred, average='macro')\n",
    "\n",
    "print(\"Recall score:\", recall)\n",
    "print(\"Precision score\", precision)"
   ],
   "outputs": [
    {
     "output_type": "stream",
     "name": "stdout",
     "text": "Recall score: 0.4255218855218856\nPrecision score 0.662011293590241\n"
    }
   ],
   "execution_count": 144,
   "metadata": {
    "gather": {
     "logged": 1737314939490
    }
   }
  },
  {
   "cell_type": "markdown",
   "source": [
    "At the end I use code below to visualizes the confusion matrix for my predictions. This helps me to understand how well the model performs across all the classes."
   ],
   "metadata": {
    "nteract": {
     "transient": {
      "deleting": false
     }
    }
   }
  },
  {
   "cell_type": "code",
   "source": [
    "conf_matrix = confusion_matrix(y_test_flat, y_pred)\n",
    "\n",
    "disp = ConfusionMatrixDisplay(confusion_matrix=conf_matrix, display_labels=clf.classes_)\n",
    "disp.plot(cmap=\"viridis\")\n",
    "disp.ax_.set_title(\"Confusion Matrix\") \n",
    "disp.ax_.set_xlabel(\"Predicted classes\")\n",
    "disp.ax_.set_ylabel(\"Real classes\")\n",
    "plt.show()"
   ],
   "outputs": [
    {
     "output_type": "display_data",
     "data": {
      "text/plain": "<Figure size 640x480 with 2 Axes>",
      "image/png": "[encoded data removed]"
     },
     "metadata": {}
    }
   ],
   "execution_count": 145,
   "metadata": {
    "gather": {
     "logged": 1737315282026
    }
   }
  }
 ],
 "metadata": {
  "kernelspec": {
   "name": "python310-sdkv2",
   "language": "python",
   "display_name": "Python 3.10 - SDK v2"
  },
  "language_info": {
   "name": "python",
   "version": "3.10.14",
   "mimetype": "text/x-python",
   "codemirror_mode": {
    "name": "ipython",
    "version": 3
   },
   "pygments_lexer": "ipython3",
   "nbconvert_exporter": "python",
   "file_extension": ".py"
  },
  "kernel_info": {
   "name": "python310-sdkv2"
  },
  "microsoft": {
   "host": {
    "AzureML": {
     "notebookHasBeenCompleted": true
    }
   }
  },
  "nteract": {
   "version": "nteract-front-end@1.0.0"
  }
 },
 "nbformat": 4,
 "nbformat_minor": 2
}
